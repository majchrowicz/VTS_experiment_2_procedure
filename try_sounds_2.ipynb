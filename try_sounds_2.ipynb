{
 "cells": [
  {
   "cell_type": "code",
   "execution_count": 21,
   "metadata": {},
   "outputs": [
    {
     "name": "stdout",
     "output_type": "stream",
     "text": [
      "<class 'psychopy.sound.backend_ptb.SoundPTB'>\n",
      "psychopy.prefs <C:\\Users\\barto\\AppData\\Roaming\\psychopy3\\userPrefs.cfg>:\n",
      "  prefs.general['winType'] = 'pyglet'\n",
      "  prefs.general['units'] = 'norm'\n",
      "  prefs.general['fullscr'] = False\n",
      "  prefs.general['allowGUI'] = True\n",
      "  prefs.general['version'] = ''\n",
      "  prefs.general['paths'] = []\n",
      "  prefs.general['flac'] = ''\n",
      "  prefs.general['shutdownKey'] = ''\n",
      "  prefs.general['shutdownKeyModifiers'] = []\n",
      "  prefs.general['gammaErrorPolicy'] = 'abort'\n",
      "  prefs.general['startUpPlugins'] = []\n",
      "  prefs.general['appKeyGoogleCloud'] = ''\n",
      "  prefs.coder['readonly'] = False\n",
      "  prefs.coder['outputFont'] = 'From theme...'\n",
      "  prefs.coder['codeFont'] = 'From theme...'\n",
      "  prefs.coder['codeFontSize'] = 10\n",
      "  prefs.coder['outputFontSize'] = 10\n",
      "  prefs.coder['lineSpacing'] = 4\n",
      "  prefs.coder['edgeGuideColumn'] = 80\n",
      "  prefs.coder['showSourceAsst'] = True\n",
      "  prefs.coder['showOutput'] = True\n",
      "  prefs.coder['autocomplete'] = True\n",
      "  prefs.coder['reloadPrevFiles'] = True\n",
      "  prefs.coder['preferredShell'] = 'pyshell'\n",
      "  prefs.builder['reloadPrevExp'] = True\n",
      "  prefs.builder['codeComponentLanguage'] = 'Py'\n",
      "  prefs.builder['unclutteredNamespace'] = False\n",
      "  prefs.builder['componentsFolders'] = ['/Users/Shared/PsychoPy3/components']\n",
      "  prefs.builder['componentFilter'] = 'Any'\n",
      "  prefs.builder['hiddenComponents'] = ['RatingScaleComponent', 'PatchComponent', 'UnknownComponent']\n",
      "  prefs.builder['unpackedDemosDir'] = 'C:\\\\Users\\\\barto\\\\Psych\\\\Badania\\\\PdB Exp1\\\\Exp procedure\\\\PsychoPy demos'\n",
      "  prefs.builder['savedDataFolder'] = 'data'\n",
      "  prefs.builder['builderLayout'] = 'FlowBottom_CompRight'\n",
      "  prefs.builder['alwaysShowReadme'] = True\n",
      "  prefs.builder['maxFavorites'] = 10\n",
      "  prefs.builder['confirmRoutineClose'] = True\n",
      "  prefs.connections['proxy'] = ''\n",
      "  prefs.connections['autoProxy'] = True\n",
      "  prefs.connections['allowUsageStats'] = True\n",
      "  prefs.connections['checkForUpdates'] = True\n",
      "  prefs.connections['timeout'] = 20.0\n",
      "\n"
     ]
    }
   ],
   "source": [
    "from psychopy import visual, event, logging, core, data, logging, gui, prefs\n",
    "from psychopy.sound.backend_ptb import SoundPTB\n",
    "from psychopy import sound\n",
    "\n",
    "# prefs.hardware['audioDevice'] = 1\n",
    "prefs.hardware['audioLib'] = 'pyo'\n",
    "prefs.hardware['audioLatencyMode0'] = 3 # def 3\n",
    "\n",
    "fb_sound_duration = 0.1\n",
    "\n",
    "sound_volume = 0.004 # volumes\n",
    "correct_sound = SoundPTB(value=800, stereo=True, volume=sound_volume, secs=fb_sound_duration)\n",
    "incorrect_sound = SoundPTB(value=400, stereo=True, volume=sound_volume, secs=fb_sound_duration)\n",
    "neutral_sound = SoundPTB(value=600, stereo=True, volume=sound_volume, secs=fb_sound_duration) \n",
    "\n",
    "correct_sound.play()\n",
    "core.wait(0.1)\n",
    "correct_sound.stop()\n",
    "\n",
    "# prefs.hardware['audioLib']\n",
    "print(sound.Sound)\n",
    "\n",
    "sound.audioLib # check if PTB is used\n",
    "print(prefs)\n"
   ]
  }
 ],
 "metadata": {
  "kernelspec": {
   "display_name": "Python 3",
   "language": "python",
   "name": "python3"
  },
  "language_info": {
   "codemirror_mode": {
    "name": "ipython",
    "version": 3
   },
   "file_extension": ".py",
   "mimetype": "text/x-python",
   "name": "python",
   "nbconvert_exporter": "python",
   "pygments_lexer": "ipython3",
   "version": "3.10.6"
  }
 },
 "nbformat": 4,
 "nbformat_minor": 2
}
